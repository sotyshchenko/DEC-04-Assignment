{
  "nbformat": 4,
  "nbformat_minor": 0,
  "metadata": {
    "colab": {
      "provenance": []
    },
    "kernelspec": {
      "name": "python3",
      "display_name": "Python 3"
    },
    "language_info": {
      "name": "python"
    }
  },
  "cells": [
    {
      "cell_type": "markdown",
      "source": [
        "# Pandas\n",
        "\n"
      ],
      "metadata": {
        "id": "rY8yULPZHt2V"
      }
    },
    {
      "cell_type": "code",
      "source": [
        "import pandas as pd"
      ],
      "metadata": {
        "id": "1MDasHNJIBZF"
      },
      "execution_count": 275,
      "outputs": []
    },
    {
      "cell_type": "markdown",
      "source": [
        "Firstly, reading the data."
      ],
      "metadata": {
        "id": "AIKCL1kHICqE"
      }
    },
    {
      "cell_type": "code",
      "source": [
        "pd_categories = pd.read_csv('categories.csv')\n",
        "\n",
        "pd_cities = pd.read_csv('cities.csv')\n",
        "\n",
        "pd_countries = pd.read_csv('countries.csv')\n",
        "\n",
        "pd_customers = pd.read_csv('customers.csv')\n",
        "\n",
        "pd_employees = pd.read_csv('employees.csv')\n",
        "\n",
        "pd_products = pd.read_csv('products.csv')\n",
        "\n",
        "pd_sales = pd.read_csv('sales.csv')"
      ],
      "metadata": {
        "id": "nhSVhdtXIWaS"
      },
      "execution_count": 276,
      "outputs": []
    },
    {
      "cell_type": "markdown",
      "source": [
        "Now let's do filtering and drop NAs if there are any:"
      ],
      "metadata": {
        "id": "QoecZzB4I5yq"
      }
    },
    {
      "cell_type": "code",
      "source": [
        "pd_categories = pd_categories.dropna()\n",
        "\n",
        "pd_cities = pd_cities.dropna()\n",
        "\n",
        "pd_countries = pd_countries.dropna()\n",
        "\n",
        "pd_customers = pd_customers.dropna()\n",
        "\n",
        "pd_employees = pd_employees.dropna()\n",
        "\n",
        "pd_products = pd_products.dropna()\n",
        "\n",
        "pd_sales = pd_sales.dropna()"
      ],
      "metadata": {
        "id": "IakoqiixJijP"
      },
      "execution_count": 277,
      "outputs": []
    },
    {
      "cell_type": "markdown",
      "source": [
        "And now I want to calculate properly TotalPrice of each sale and proceed to merging sales data and products data and defining the formula for TotalPrice."
      ],
      "metadata": {
        "id": "713kcg1-Ksxt"
      }
    },
    {
      "cell_type": "code",
      "source": [
        "pd_sales = pd_sales.merge(\n",
        "    pd_products[['ProductID', 'Price']],\n",
        "    on = 'ProductID',\n",
        "    how = 'left'\n",
        ")"
      ],
      "metadata": {
        "id": "9rwpUYKdK5jN"
      },
      "execution_count": 278,
      "outputs": []
    },
    {
      "cell_type": "code",
      "source": [
        "pd_sales['TotalPrice'] = pd_sales['Price'] * pd_sales['Quantity']"
      ],
      "metadata": {
        "id": "izrhh4IWLB6e"
      },
      "execution_count": 279,
      "outputs": []
    },
    {
      "cell_type": "markdown",
      "source": [
        "I decided to drop uncessary now column Price:"
      ],
      "metadata": {
        "id": "bOZtK2W6LNDL"
      }
    },
    {
      "cell_type": "code",
      "source": [
        "pd_sales = pd_sales.drop(columns = ['Price'])"
      ],
      "metadata": {
        "id": "LkXkVhdELMNU"
      },
      "execution_count": 280,
      "outputs": []
    },
    {
      "cell_type": "markdown",
      "source": [
        "Now, I want to apply filtering and see all orders that were done in January 2018 and have more than 10 units ordered. Then sort the orders by their SalesDate."
      ],
      "metadata": {
        "id": "zjKjnDrNKC2A"
      }
    },
    {
      "cell_type": "code",
      "source": [
        "pd_sales = pd_sales[pd_sales['Quantity'] > 10]\n",
        "\n",
        "pd_sales = pd_sales[\n",
        "    (pd_sales['SalesDate'] >= '2018-01-01') &\n",
        "    (pd_sales['SalesDate'] <  '2018-04-01')\n",
        "]\n",
        "\n",
        "pd_sales = pd_sales.sort_values('SalesDate', ascending = False)"
      ],
      "metadata": {
        "id": "e4KDxM85LV0Q"
      },
      "execution_count": 281,
      "outputs": []
    },
    {
      "cell_type": "markdown",
      "source": [
        "Here, let me calculate the amount a customer spends on all orders, the average value of the order, and the number of orders."
      ],
      "metadata": {
        "id": "ge4e1syPqkHC"
      }
    },
    {
      "cell_type": "code",
      "source": [
        "pd_aggregation = (\n",
        "    pd_sales\n",
        "    .groupby('CustomerID')\n",
        "    .agg(\n",
        "        total_spent = pd.NamedAgg('TotalPrice', 'sum'),\n",
        "        avg_spent   = pd.NamedAgg('TotalPrice', 'mean'),\n",
        "        order_count = pd.NamedAgg('SalesID', 'count')\n",
        "      )\n",
        "    .reset_index()\n",
        ")"
      ],
      "metadata": {
        "id": "YYZBw1GkLjGW"
      },
      "execution_count": 282,
      "outputs": []
    },
    {
      "cell_type": "markdown",
      "source": [
        "For convenience, I also rounded the amounts:"
      ],
      "metadata": {
        "id": "855JxYYLTsYW"
      }
    },
    {
      "cell_type": "code",
      "source": [
        "pd_aggregation['total_spent'] = round(pd_aggregation['total_spent'], 2)\n",
        "pd_aggregation['avg_spent'] = round(pd_aggregation['avg_spent'], 2)"
      ],
      "metadata": {
        "id": "bmHwXAxpTVoe"
      },
      "execution_count": 283,
      "outputs": []
    },
    {
      "cell_type": "markdown",
      "source": [
        "On this step I decided to classify customers into 3 groups: bronze, silver, and gold, according to the amounts they spent:"
      ],
      "metadata": {
        "id": "CQUpOEL5VBGA"
      }
    },
    {
      "cell_type": "code",
      "source": [
        "quantiles = pd_aggregation['total_spent'].quantile([0, 0.33, 0.66, 1.0])\n",
        "\n",
        "pd_aggregation['customer_status'] = pd.cut(\n",
        "    pd_aggregation['total_spent'],\n",
        "    bins = quantiles.values,\n",
        "    labels = ['bronze', 'silver', 'gold'],\n",
        "    include_lowest = True\n",
        ")"
      ],
      "metadata": {
        "id": "vEpOU8tQWSw2"
      },
      "execution_count": 284,
      "outputs": []
    },
    {
      "cell_type": "markdown",
      "source": [
        "After that i decided to identify first and last orders of each customer:"
      ],
      "metadata": {
        "id": "lAqOZt4cnILq"
      }
    },
    {
      "cell_type": "code",
      "source": [
        "first_orders = (\n",
        "    pd_sales\n",
        "    .groupby('CustomerID')['SalesDate']\n",
        "    .min()\n",
        "    .reset_index()\n",
        "    .rename(columns={'SalesDate': 'first_order_date'})\n",
        ")"
      ],
      "metadata": {
        "id": "-4FXXllTW_X7"
      },
      "execution_count": 285,
      "outputs": []
    },
    {
      "cell_type": "code",
      "source": [
        "pd_aggregation = pd_aggregation.merge(\n",
        "    first_orders,\n",
        "    on = 'CustomerID',\n",
        "    how = 'left'\n",
        ")"
      ],
      "metadata": {
        "id": "pv8sxvqRXAJ0"
      },
      "execution_count": 287,
      "outputs": []
    },
    {
      "cell_type": "code",
      "source": [
        "last_orders = (\n",
        "    pd_sales\n",
        "      .groupby('CustomerID')['SalesDate']\n",
        "      .max()\n",
        "      .reset_index()\n",
        "      .rename(columns = {'SalesDate': 'last_order_date'})\n",
        ")"
      ],
      "metadata": {
        "id": "0a052RVRYAPr"
      },
      "execution_count": 288,
      "outputs": []
    },
    {
      "cell_type": "code",
      "source": [
        "pd_aggregation = pd_aggregation.merge(\n",
        "    last_orders,\n",
        "    on='CustomerID',\n",
        "    how='left'\n",
        ")"
      ],
      "metadata": {
        "id": "0ceHOiPSYFaU"
      },
      "execution_count": 289,
      "outputs": []
    },
    {
      "cell_type": "markdown",
      "source": [
        "Last but not least, I decided to identify customer's favorite product - the one that was ordered the most frequently. I begin with identifying the id of such product, and then the name itself:"
      ],
      "metadata": {
        "id": "3Lyb-8LfnzKI"
      }
    },
    {
      "cell_type": "code",
      "source": [
        "favorite_product_id = (\n",
        "    pd_sales\n",
        "      .groupby('CustomerID')['ProductID']\n",
        "      .agg(lambda ids: ids.value_counts().idxmax())\n",
        "      .reset_index(name = 'favorite_product_id')\n",
        ")"
      ],
      "metadata": {
        "id": "6D8MsG20agX2"
      },
      "execution_count": 290,
      "outputs": []
    },
    {
      "cell_type": "code",
      "source": [
        "favorite_product_name = (\n",
        "    favorite_product_id\n",
        "    .merge(\n",
        "        pd_products[['ProductID','ProductName']],\n",
        "        left_on = 'favorite_product_id',\n",
        "        right_on = 'ProductID',\n",
        "        how = 'left'\n",
        "      )\n",
        "    .drop(columns = ['ProductID','favorite_product_id'])\n",
        "    .rename(columns = {'ProductName':'favorite_product'})\n",
        ")"
      ],
      "metadata": {
        "id": "QvhYriNTani3"
      },
      "execution_count": 291,
      "outputs": []
    },
    {
      "cell_type": "code",
      "source": [
        "pd_aggregation = pd_aggregation.merge(\n",
        "    favorite_product_name,\n",
        "    on = 'CustomerID',\n",
        "    how='left'\n",
        ")"
      ],
      "metadata": {
        "id": "pTfWJw4LaZo6"
      },
      "execution_count": 292,
      "outputs": []
    },
    {
      "cell_type": "markdown",
      "source": [
        "Tadaaa! Final table looks like:"
      ],
      "metadata": {
        "id": "6UyXClmnbvrO"
      }
    },
    {
      "cell_type": "code",
      "source": [
        "pd_aggregation"
      ],
      "metadata": {
        "colab": {
          "base_uri": "https://localhost:8080/",
          "height": 597
        },
        "id": "RPLo2jn7bDda",
        "outputId": "2c8aa13a-8718-4d41-bfa2-785fd22f0e74"
      },
      "execution_count": 293,
      "outputs": [
        {
          "output_type": "execute_result",
          "data": {
            "text/plain": [
              "       CustomerID  total_spent  avg_spent  order_count customer_status  \\\n",
              "0           39504     11400.53     670.62           17          bronze   \n",
              "1           39505     27411.50     559.42           49          bronze   \n",
              "2           39506     20865.45     632.29           33          bronze   \n",
              "3           39507     23219.67     494.04           47          bronze   \n",
              "4           39508     30336.88     551.58           55          bronze   \n",
              "...           ...          ...        ...          ...             ...   \n",
              "59251       98755     58086.71    1117.05           52            gold   \n",
              "59252       98756     75462.62    1197.82           63            gold   \n",
              "59253       98757     66226.58    1379.72           48            gold   \n",
              "59254       98758     60422.53    1258.80           48            gold   \n",
              "59255       98759     47078.44    1176.96           40          silver   \n",
              "\n",
              "              first_order_date          last_order_date  \\\n",
              "0      2018-01-04 03:09:41.690  2018-03-27 14:45:14.350   \n",
              "1      2018-01-03 15:00:24.840  2018-03-27 15:45:05.140   \n",
              "2      2018-01-02 23:04:14.980  2018-03-30 17:13:40.410   \n",
              "3      2018-01-03 00:08:23.260  2018-03-29 23:50:53.470   \n",
              "4      2018-01-04 04:06:00.020  2018-03-27 03:09:35.830   \n",
              "...                        ...                      ...   \n",
              "59251  2018-01-08 01:17:18.300  2018-03-31 10:08:55.370   \n",
              "59252  2018-01-01 20:37:26.440  2018-03-30 13:40:40.650   \n",
              "59253  2018-01-02 10:21:56.120  2018-03-29 17:45:08.070   \n",
              "59254  2018-01-02 04:22:05.810  2018-03-31 15:38:28.190   \n",
              "59255  2018-01-01 06:37:50.380  2018-03-30 15:16:14.660   \n",
              "\n",
              "                        favorite_product  \n",
              "0                          Peas - Frozen  \n",
              "1                 Pork - Loin, Bone - In  \n",
              "2           Pastry - Cheese Baked Scones  \n",
              "3                     Sauce - Demi Glace  \n",
              "4                      Veal - Sweetbread  \n",
              "...                                  ...  \n",
              "59251                     Cattail Hearts  \n",
              "59252               Juice - Happy Planet  \n",
              "59253  Appetizer - Mini Egg Roll, Shrimp  \n",
              "59254         Yogurt - Blueberry, 175 Gr  \n",
              "59255         Wine - Gato Negro Cabernet  \n",
              "\n",
              "[59256 rows x 8 columns]"
            ],
            "text/html": [
              "\n",
              "  <div id=\"df-55810679-a3e3-465f-8d61-9789681f4765\" class=\"colab-df-container\">\n",
              "    <div>\n",
              "<style scoped>\n",
              "    .dataframe tbody tr th:only-of-type {\n",
              "        vertical-align: middle;\n",
              "    }\n",
              "\n",
              "    .dataframe tbody tr th {\n",
              "        vertical-align: top;\n",
              "    }\n",
              "\n",
              "    .dataframe thead th {\n",
              "        text-align: right;\n",
              "    }\n",
              "</style>\n",
              "<table border=\"1\" class=\"dataframe\">\n",
              "  <thead>\n",
              "    <tr style=\"text-align: right;\">\n",
              "      <th></th>\n",
              "      <th>CustomerID</th>\n",
              "      <th>total_spent</th>\n",
              "      <th>avg_spent</th>\n",
              "      <th>order_count</th>\n",
              "      <th>customer_status</th>\n",
              "      <th>first_order_date</th>\n",
              "      <th>last_order_date</th>\n",
              "      <th>favorite_product</th>\n",
              "    </tr>\n",
              "  </thead>\n",
              "  <tbody>\n",
              "    <tr>\n",
              "      <th>0</th>\n",
              "      <td>39504</td>\n",
              "      <td>11400.53</td>\n",
              "      <td>670.62</td>\n",
              "      <td>17</td>\n",
              "      <td>bronze</td>\n",
              "      <td>2018-01-04 03:09:41.690</td>\n",
              "      <td>2018-03-27 14:45:14.350</td>\n",
              "      <td>Peas - Frozen</td>\n",
              "    </tr>\n",
              "    <tr>\n",
              "      <th>1</th>\n",
              "      <td>39505</td>\n",
              "      <td>27411.50</td>\n",
              "      <td>559.42</td>\n",
              "      <td>49</td>\n",
              "      <td>bronze</td>\n",
              "      <td>2018-01-03 15:00:24.840</td>\n",
              "      <td>2018-03-27 15:45:05.140</td>\n",
              "      <td>Pork - Loin, Bone - In</td>\n",
              "    </tr>\n",
              "    <tr>\n",
              "      <th>2</th>\n",
              "      <td>39506</td>\n",
              "      <td>20865.45</td>\n",
              "      <td>632.29</td>\n",
              "      <td>33</td>\n",
              "      <td>bronze</td>\n",
              "      <td>2018-01-02 23:04:14.980</td>\n",
              "      <td>2018-03-30 17:13:40.410</td>\n",
              "      <td>Pastry - Cheese Baked Scones</td>\n",
              "    </tr>\n",
              "    <tr>\n",
              "      <th>3</th>\n",
              "      <td>39507</td>\n",
              "      <td>23219.67</td>\n",
              "      <td>494.04</td>\n",
              "      <td>47</td>\n",
              "      <td>bronze</td>\n",
              "      <td>2018-01-03 00:08:23.260</td>\n",
              "      <td>2018-03-29 23:50:53.470</td>\n",
              "      <td>Sauce - Demi Glace</td>\n",
              "    </tr>\n",
              "    <tr>\n",
              "      <th>4</th>\n",
              "      <td>39508</td>\n",
              "      <td>30336.88</td>\n",
              "      <td>551.58</td>\n",
              "      <td>55</td>\n",
              "      <td>bronze</td>\n",
              "      <td>2018-01-04 04:06:00.020</td>\n",
              "      <td>2018-03-27 03:09:35.830</td>\n",
              "      <td>Veal - Sweetbread</td>\n",
              "    </tr>\n",
              "    <tr>\n",
              "      <th>...</th>\n",
              "      <td>...</td>\n",
              "      <td>...</td>\n",
              "      <td>...</td>\n",
              "      <td>...</td>\n",
              "      <td>...</td>\n",
              "      <td>...</td>\n",
              "      <td>...</td>\n",
              "      <td>...</td>\n",
              "    </tr>\n",
              "    <tr>\n",
              "      <th>59251</th>\n",
              "      <td>98755</td>\n",
              "      <td>58086.71</td>\n",
              "      <td>1117.05</td>\n",
              "      <td>52</td>\n",
              "      <td>gold</td>\n",
              "      <td>2018-01-08 01:17:18.300</td>\n",
              "      <td>2018-03-31 10:08:55.370</td>\n",
              "      <td>Cattail Hearts</td>\n",
              "    </tr>\n",
              "    <tr>\n",
              "      <th>59252</th>\n",
              "      <td>98756</td>\n",
              "      <td>75462.62</td>\n",
              "      <td>1197.82</td>\n",
              "      <td>63</td>\n",
              "      <td>gold</td>\n",
              "      <td>2018-01-01 20:37:26.440</td>\n",
              "      <td>2018-03-30 13:40:40.650</td>\n",
              "      <td>Juice - Happy Planet</td>\n",
              "    </tr>\n",
              "    <tr>\n",
              "      <th>59253</th>\n",
              "      <td>98757</td>\n",
              "      <td>66226.58</td>\n",
              "      <td>1379.72</td>\n",
              "      <td>48</td>\n",
              "      <td>gold</td>\n",
              "      <td>2018-01-02 10:21:56.120</td>\n",
              "      <td>2018-03-29 17:45:08.070</td>\n",
              "      <td>Appetizer - Mini Egg Roll, Shrimp</td>\n",
              "    </tr>\n",
              "    <tr>\n",
              "      <th>59254</th>\n",
              "      <td>98758</td>\n",
              "      <td>60422.53</td>\n",
              "      <td>1258.80</td>\n",
              "      <td>48</td>\n",
              "      <td>gold</td>\n",
              "      <td>2018-01-02 04:22:05.810</td>\n",
              "      <td>2018-03-31 15:38:28.190</td>\n",
              "      <td>Yogurt - Blueberry, 175 Gr</td>\n",
              "    </tr>\n",
              "    <tr>\n",
              "      <th>59255</th>\n",
              "      <td>98759</td>\n",
              "      <td>47078.44</td>\n",
              "      <td>1176.96</td>\n",
              "      <td>40</td>\n",
              "      <td>silver</td>\n",
              "      <td>2018-01-01 06:37:50.380</td>\n",
              "      <td>2018-03-30 15:16:14.660</td>\n",
              "      <td>Wine - Gato Negro Cabernet</td>\n",
              "    </tr>\n",
              "  </tbody>\n",
              "</table>\n",
              "<p>59256 rows × 8 columns</p>\n",
              "</div>\n",
              "    <div class=\"colab-df-buttons\">\n",
              "\n",
              "  <div class=\"colab-df-container\">\n",
              "    <button class=\"colab-df-convert\" onclick=\"convertToInteractive('df-55810679-a3e3-465f-8d61-9789681f4765')\"\n",
              "            title=\"Convert this dataframe to an interactive table.\"\n",
              "            style=\"display:none;\">\n",
              "\n",
              "  <svg xmlns=\"http://www.w3.org/2000/svg\" height=\"24px\" viewBox=\"0 -960 960 960\">\n",
              "    <path d=\"M120-120v-720h720v720H120Zm60-500h600v-160H180v160Zm220 220h160v-160H400v160Zm0 220h160v-160H400v160ZM180-400h160v-160H180v160Zm440 0h160v-160H620v160ZM180-180h160v-160H180v160Zm440 0h160v-160H620v160Z\"/>\n",
              "  </svg>\n",
              "    </button>\n",
              "\n",
              "  <style>\n",
              "    .colab-df-container {\n",
              "      display:flex;\n",
              "      gap: 12px;\n",
              "    }\n",
              "\n",
              "    .colab-df-convert {\n",
              "      background-color: #E8F0FE;\n",
              "      border: none;\n",
              "      border-radius: 50%;\n",
              "      cursor: pointer;\n",
              "      display: none;\n",
              "      fill: #1967D2;\n",
              "      height: 32px;\n",
              "      padding: 0 0 0 0;\n",
              "      width: 32px;\n",
              "    }\n",
              "\n",
              "    .colab-df-convert:hover {\n",
              "      background-color: #E2EBFA;\n",
              "      box-shadow: 0px 1px 2px rgba(60, 64, 67, 0.3), 0px 1px 3px 1px rgba(60, 64, 67, 0.15);\n",
              "      fill: #174EA6;\n",
              "    }\n",
              "\n",
              "    .colab-df-buttons div {\n",
              "      margin-bottom: 4px;\n",
              "    }\n",
              "\n",
              "    [theme=dark] .colab-df-convert {\n",
              "      background-color: #3B4455;\n",
              "      fill: #D2E3FC;\n",
              "    }\n",
              "\n",
              "    [theme=dark] .colab-df-convert:hover {\n",
              "      background-color: #434B5C;\n",
              "      box-shadow: 0px 1px 3px 1px rgba(0, 0, 0, 0.15);\n",
              "      filter: drop-shadow(0px 1px 2px rgba(0, 0, 0, 0.3));\n",
              "      fill: #FFFFFF;\n",
              "    }\n",
              "  </style>\n",
              "\n",
              "    <script>\n",
              "      const buttonEl =\n",
              "        document.querySelector('#df-55810679-a3e3-465f-8d61-9789681f4765 button.colab-df-convert');\n",
              "      buttonEl.style.display =\n",
              "        google.colab.kernel.accessAllowed ? 'block' : 'none';\n",
              "\n",
              "      async function convertToInteractive(key) {\n",
              "        const element = document.querySelector('#df-55810679-a3e3-465f-8d61-9789681f4765');\n",
              "        const dataTable =\n",
              "          await google.colab.kernel.invokeFunction('convertToInteractive',\n",
              "                                                    [key], {});\n",
              "        if (!dataTable) return;\n",
              "\n",
              "        const docLinkHtml = 'Like what you see? Visit the ' +\n",
              "          '<a target=\"_blank\" href=https://colab.research.google.com/notebooks/data_table.ipynb>data table notebook</a>'\n",
              "          + ' to learn more about interactive tables.';\n",
              "        element.innerHTML = '';\n",
              "        dataTable['output_type'] = 'display_data';\n",
              "        await google.colab.output.renderOutput(dataTable, element);\n",
              "        const docLink = document.createElement('div');\n",
              "        docLink.innerHTML = docLinkHtml;\n",
              "        element.appendChild(docLink);\n",
              "      }\n",
              "    </script>\n",
              "  </div>\n",
              "\n",
              "\n",
              "<div id=\"df-7f8c2591-72cf-4991-95a9-5c5599098e23\">\n",
              "  <button class=\"colab-df-quickchart\" onclick=\"quickchart('df-7f8c2591-72cf-4991-95a9-5c5599098e23')\"\n",
              "            title=\"Suggest charts\"\n",
              "            style=\"display:none;\">\n",
              "\n",
              "<svg xmlns=\"http://www.w3.org/2000/svg\" height=\"24px\"viewBox=\"0 0 24 24\"\n",
              "     width=\"24px\">\n",
              "    <g>\n",
              "        <path d=\"M19 3H5c-1.1 0-2 .9-2 2v14c0 1.1.9 2 2 2h14c1.1 0 2-.9 2-2V5c0-1.1-.9-2-2-2zM9 17H7v-7h2v7zm4 0h-2V7h2v10zm4 0h-2v-4h2v4z\"/>\n",
              "    </g>\n",
              "</svg>\n",
              "  </button>\n",
              "\n",
              "<style>\n",
              "  .colab-df-quickchart {\n",
              "      --bg-color: #E8F0FE;\n",
              "      --fill-color: #1967D2;\n",
              "      --hover-bg-color: #E2EBFA;\n",
              "      --hover-fill-color: #174EA6;\n",
              "      --disabled-fill-color: #AAA;\n",
              "      --disabled-bg-color: #DDD;\n",
              "  }\n",
              "\n",
              "  [theme=dark] .colab-df-quickchart {\n",
              "      --bg-color: #3B4455;\n",
              "      --fill-color: #D2E3FC;\n",
              "      --hover-bg-color: #434B5C;\n",
              "      --hover-fill-color: #FFFFFF;\n",
              "      --disabled-bg-color: #3B4455;\n",
              "      --disabled-fill-color: #666;\n",
              "  }\n",
              "\n",
              "  .colab-df-quickchart {\n",
              "    background-color: var(--bg-color);\n",
              "    border: none;\n",
              "    border-radius: 50%;\n",
              "    cursor: pointer;\n",
              "    display: none;\n",
              "    fill: var(--fill-color);\n",
              "    height: 32px;\n",
              "    padding: 0;\n",
              "    width: 32px;\n",
              "  }\n",
              "\n",
              "  .colab-df-quickchart:hover {\n",
              "    background-color: var(--hover-bg-color);\n",
              "    box-shadow: 0 1px 2px rgba(60, 64, 67, 0.3), 0 1px 3px 1px rgba(60, 64, 67, 0.15);\n",
              "    fill: var(--button-hover-fill-color);\n",
              "  }\n",
              "\n",
              "  .colab-df-quickchart-complete:disabled,\n",
              "  .colab-df-quickchart-complete:disabled:hover {\n",
              "    background-color: var(--disabled-bg-color);\n",
              "    fill: var(--disabled-fill-color);\n",
              "    box-shadow: none;\n",
              "  }\n",
              "\n",
              "  .colab-df-spinner {\n",
              "    border: 2px solid var(--fill-color);\n",
              "    border-color: transparent;\n",
              "    border-bottom-color: var(--fill-color);\n",
              "    animation:\n",
              "      spin 1s steps(1) infinite;\n",
              "  }\n",
              "\n",
              "  @keyframes spin {\n",
              "    0% {\n",
              "      border-color: transparent;\n",
              "      border-bottom-color: var(--fill-color);\n",
              "      border-left-color: var(--fill-color);\n",
              "    }\n",
              "    20% {\n",
              "      border-color: transparent;\n",
              "      border-left-color: var(--fill-color);\n",
              "      border-top-color: var(--fill-color);\n",
              "    }\n",
              "    30% {\n",
              "      border-color: transparent;\n",
              "      border-left-color: var(--fill-color);\n",
              "      border-top-color: var(--fill-color);\n",
              "      border-right-color: var(--fill-color);\n",
              "    }\n",
              "    40% {\n",
              "      border-color: transparent;\n",
              "      border-right-color: var(--fill-color);\n",
              "      border-top-color: var(--fill-color);\n",
              "    }\n",
              "    60% {\n",
              "      border-color: transparent;\n",
              "      border-right-color: var(--fill-color);\n",
              "    }\n",
              "    80% {\n",
              "      border-color: transparent;\n",
              "      border-right-color: var(--fill-color);\n",
              "      border-bottom-color: var(--fill-color);\n",
              "    }\n",
              "    90% {\n",
              "      border-color: transparent;\n",
              "      border-bottom-color: var(--fill-color);\n",
              "    }\n",
              "  }\n",
              "</style>\n",
              "\n",
              "  <script>\n",
              "    async function quickchart(key) {\n",
              "      const quickchartButtonEl =\n",
              "        document.querySelector('#' + key + ' button');\n",
              "      quickchartButtonEl.disabled = true;  // To prevent multiple clicks.\n",
              "      quickchartButtonEl.classList.add('colab-df-spinner');\n",
              "      try {\n",
              "        const charts = await google.colab.kernel.invokeFunction(\n",
              "            'suggestCharts', [key], {});\n",
              "      } catch (error) {\n",
              "        console.error('Error during call to suggestCharts:', error);\n",
              "      }\n",
              "      quickchartButtonEl.classList.remove('colab-df-spinner');\n",
              "      quickchartButtonEl.classList.add('colab-df-quickchart-complete');\n",
              "    }\n",
              "    (() => {\n",
              "      let quickchartButtonEl =\n",
              "        document.querySelector('#df-7f8c2591-72cf-4991-95a9-5c5599098e23 button');\n",
              "      quickchartButtonEl.style.display =\n",
              "        google.colab.kernel.accessAllowed ? 'block' : 'none';\n",
              "    })();\n",
              "  </script>\n",
              "</div>\n",
              "    </div>\n",
              "  </div>\n"
            ],
            "application/vnd.google.colaboratory.intrinsic+json": {
              "type": "dataframe",
              "variable_name": "pd_aggregation",
              "summary": "{\n  \"name\": \"pd_aggregation\",\n  \"rows\": 59256,\n  \"fields\": [\n    {\n      \"column\": \"CustomerID\",\n      \"properties\": {\n        \"dtype\": \"number\",\n        \"std\": 17105,\n        \"min\": 39504,\n        \"max\": 98759,\n        \"num_unique_values\": 59256,\n        \"samples\": [\n          46437,\n          41853,\n          97964\n        ],\n        \"semantic_type\": \"\",\n        \"description\": \"\"\n      }\n    },\n    {\n      \"column\": \"total_spent\",\n      \"properties\": {\n        \"dtype\": \"number\",\n        \"std\": 12754.756590184474,\n        \"min\": 11400.53,\n        \"max\": 99783.14,\n        \"num_unique_values\": 58888,\n        \"samples\": [\n          42318.73,\n          31778.64,\n          50181.84\n        ],\n        \"semantic_type\": \"\",\n        \"description\": \"\"\n      }\n    },\n    {\n      \"column\": \"avg_spent\",\n      \"properties\": {\n        \"dtype\": \"number\",\n        \"std\": 233.3664457546833,\n        \"min\": 392.23,\n        \"max\": 1684.74,\n        \"num_unique_values\": 42953,\n        \"samples\": [\n          825.94,\n          788.19,\n          650.44\n        ],\n        \"semantic_type\": \"\",\n        \"description\": \"\"\n      }\n    },\n    {\n      \"column\": \"order_count\",\n      \"properties\": {\n        \"dtype\": \"number\",\n        \"std\": 6,\n        \"min\": 17,\n        \"max\": 76,\n        \"num_unique_values\": 56,\n        \"samples\": [\n          17,\n          43,\n          31\n        ],\n        \"semantic_type\": \"\",\n        \"description\": \"\"\n      }\n    },\n    {\n      \"column\": \"customer_status\",\n      \"properties\": {\n        \"dtype\": \"category\",\n        \"num_unique_values\": 3,\n        \"samples\": [\n          \"bronze\",\n          \"silver\",\n          \"gold\"\n        ],\n        \"semantic_type\": \"\",\n        \"description\": \"\"\n      }\n    },\n    {\n      \"column\": \"first_order_date\",\n      \"properties\": {\n        \"dtype\": \"object\",\n        \"num_unique_values\": 59204,\n        \"samples\": [\n          \"2018-01-09 18:10:50.270\",\n          \"2018-01-02 02:41:48.850\",\n          \"2018-01-04 12:10:27.940\"\n        ],\n        \"semantic_type\": \"\",\n        \"description\": \"\"\n      }\n    },\n    {\n      \"column\": \"last_order_date\",\n      \"properties\": {\n        \"dtype\": \"object\",\n        \"num_unique_values\": 59197,\n        \"samples\": [\n          \"2018-03-30 20:22:26.700\",\n          \"2018-03-31 05:42:48.970\",\n          \"2018-03-29 02:11:13.330\"\n        ],\n        \"semantic_type\": \"\",\n        \"description\": \"\"\n      }\n    },\n    {\n      \"column\": \"favorite_product\",\n      \"properties\": {\n        \"dtype\": \"category\",\n        \"num_unique_values\": 452,\n        \"samples\": [\n          \"Soup V8 Roasted Red Pepper\",\n          \"Bread - Roll, Soft White Round\",\n          \"Tilapia - Fillets\"\n        ],\n        \"semantic_type\": \"\",\n        \"description\": \"\"\n      }\n    }\n  ]\n}"
            }
          },
          "metadata": {},
          "execution_count": 293
        }
      ]
    },
    {
      "cell_type": "markdown",
      "source": [
        "Finally, saving the output file:"
      ],
      "metadata": {
        "id": "6vnzoQanoQTL"
      }
    },
    {
      "cell_type": "code",
      "source": [
        "pd_aggregation.to_csv(\"pandas_output.csv\", index = False)"
      ],
      "metadata": {
        "id": "MS1waAkViPaT"
      },
      "execution_count": 294,
      "outputs": []
    },
    {
      "cell_type": "markdown",
      "source": [
        "# Polars"
      ],
      "metadata": {
        "id": "jLfhU8CKH0Fh"
      }
    },
    {
      "cell_type": "code",
      "source": [
        "import polars as pl\n",
        "import typing\n",
        "import polars._typing as _t\n",
        "from datetime import datetime"
      ],
      "metadata": {
        "id": "QmYYX7VZH4o8"
      },
      "execution_count": 295,
      "outputs": []
    },
    {
      "cell_type": "markdown",
      "source": [
        "Firstly, reading the data (again but with Polars)."
      ],
      "metadata": {
        "id": "v5MRH3ekoiEu"
      }
    },
    {
      "cell_type": "code",
      "source": [
        "pl_categories = pl.read_csv(\"categories.csv\").drop_nulls()\n",
        "pl_cities = pl.read_csv(\"cities.csv\").drop_nulls()\n",
        "pl_countries = pl.read_csv(\"countries.csv\").drop_nulls()\n",
        "pl_customers = pl.read_csv(\"customers.csv\").drop_nulls()\n",
        "pl_employees = pl.read_csv(\"employees.csv\").drop_nulls()\n",
        "pl_products = pl.read_csv(\"products.csv\").drop_nulls()\n",
        "pl_sales = pl.read_csv(\"sales.csv\").drop_nulls()"
      ],
      "metadata": {
        "id": "Tmi1wLFdcbAJ"
      },
      "execution_count": 296,
      "outputs": []
    },
    {
      "cell_type": "markdown",
      "source": [
        "Here I'm joining the sales table with prices, to compute TotalPrice = Price * Quantity and then drop Price from merged data:"
      ],
      "metadata": {
        "id": "lYgQkrjtpYeR"
      }
    },
    {
      "cell_type": "code",
      "source": [
        "pl_sales = pl_sales.join(\n",
        "    pl_products.select(['ProductID', 'Price']),\n",
        "    on = 'ProductID',\n",
        "    how = 'left'\n",
        ")"
      ],
      "metadata": {
        "id": "pBBtIR1ac-Gn"
      },
      "execution_count": 297,
      "outputs": []
    },
    {
      "cell_type": "code",
      "source": [
        "pl_sales = (\n",
        "    pl_sales\n",
        "    .with_columns(\n",
        "        (pl.col('Price') * pl.col('Quantity')).alias('TotalPrice')\n",
        "    )\n",
        "    .drop('Price')\n",
        ")"
      ],
      "metadata": {
        "id": "jZybl8h9dAxX"
      },
      "execution_count": 298,
      "outputs": []
    },
    {
      "cell_type": "markdown",
      "source": [
        "Now I proceed to filter order with quantity over 10 units and placed within 1 January and 1 April, sorting them by date."
      ],
      "metadata": {
        "id": "x_DOntYQp5Qt"
      }
    },
    {
      "cell_type": "code",
      "source": [
        "pl_sales = pl_sales.filter(pl.col('Quantity') > 10)"
      ],
      "metadata": {
        "id": "StFdQQIldCgB"
      },
      "execution_count": 299,
      "outputs": []
    },
    {
      "cell_type": "code",
      "source": [
        "pl_sales = (\n",
        "    pl_sales.with_columns(\n",
        "        pl.col('SalesDate')\n",
        "        .str.to_datetime('%Y-%m-%d %H:%M:%S.%f', strict = False)\n",
        "        .dt.date()\n",
        "        .alias('SalesDate')\n",
        "    )\n",
        "    .filter(\n",
        "        (pl.col('SalesDate') >= date(2018, 1, 1)) &\n",
        "        (pl.col('SalesDate') <  date(2018, 4, 1))\n",
        "    )\n",
        ")"
      ],
      "metadata": {
        "colab": {
          "base_uri": "https://localhost:8080/"
        },
        "id": "5N4OSrbKdD6n",
        "outputId": "3ebb73a9-e65f-4132-9bec-e0a2ada96a69"
      },
      "execution_count": 300,
      "outputs": [
        {
          "output_type": "stream",
          "name": "stderr",
          "text": [
            "<ipython-input-300-5dc128cd89f6>:4: ChronoFormatWarning: Detected the pattern `.%f` in the chrono format string. This pattern should not be used to parse values after a decimal point. Use `%.f` instead. See the full specification: https://docs.rs/chrono/latest/chrono/format/strftime\n",
            "  .str.to_datetime('%Y-%m-%d %H:%M:%S.%f', strict = False)\n"
          ]
        }
      ]
    },
    {
      "cell_type": "code",
      "source": [
        "pl_sales = pl_sales.sort('SalesDate', descending = True)"
      ],
      "metadata": {
        "id": "c4zQY3GmdF-V"
      },
      "execution_count": 301,
      "outputs": []
    },
    {
      "cell_type": "markdown",
      "source": [
        "Here, let me calculate the amount a customer spends on all orders, the average value of the order, and the number of orders."
      ],
      "metadata": {
        "id": "V3UHxJFCqghL"
      }
    },
    {
      "cell_type": "code",
      "source": [
        "pl_aggregation = pl_sales.group_by('CustomerID').agg([\n",
        "    pl.col('TotalPrice').sum().round(2).alias('total_spent'),\n",
        "    pl.col('TotalPrice').mean().round(2).alias('avg_spent'),\n",
        "    pl.count('SalesID').alias('order_count'),\n",
        "])"
      ],
      "metadata": {
        "id": "N7L4TC7RdHPi"
      },
      "execution_count": 311,
      "outputs": []
    },
    {
      "cell_type": "markdown",
      "source": [
        "Computing quantiles to classify the customers:"
      ],
      "metadata": {
        "id": "nl4yKuZzrW1r"
      }
    },
    {
      "cell_type": "code",
      "source": [
        "q33 = pl_aggregation['total_spent'].quantile(0.33)\n",
        "q66 = pl_aggregation['total_spent'].quantile(0.66)"
      ],
      "metadata": {
        "id": "3YembydreuKY"
      },
      "execution_count": 312,
      "outputs": []
    },
    {
      "cell_type": "code",
      "source": [
        "pl_aggregation = pl_aggregation.with_columns([\n",
        "    pl.when(pl.col('total_spent') <= q33).then(pl.lit('bronze'))\n",
        "      .when(pl.col('total_spent') <= q66).then(pl.lit('silver'))\n",
        "      .otherwise(pl.lit('gold'))\n",
        "      .alias('customer_status')\n",
        "])"
      ],
      "metadata": {
        "id": "lFR1WpM7e6bW"
      },
      "execution_count": 313,
      "outputs": []
    },
    {
      "cell_type": "markdown",
      "source": [
        "Then let me identify first and last order of the customer:\n"
      ],
      "metadata": {
        "id": "e6rrHUIProdY"
      }
    },
    {
      "cell_type": "code",
      "source": [
        "first_orders = pl_sales.group_by('CustomerID').agg(\n",
        "    pl.col('SalesDate').min().alias('first_order_date')\n",
        ")\n",
        "\n",
        "last_orders = pl_sales.group_by('CustomerID').agg(\n",
        "    pl.col('SalesDate').max().alias('last_order_date')\n",
        ")\n",
        "\n",
        "pl_aggregation = (\n",
        "    pl_aggregation\n",
        "    .join(first_orders, on = 'CustomerID', how = 'left')\n",
        "    .join(last_orders,  on = 'CustomerID', how = 'left')\n",
        ")"
      ],
      "metadata": {
        "id": "3RdBdzx1sDWV"
      },
      "execution_count": 314,
      "outputs": []
    },
    {
      "cell_type": "markdown",
      "source": [
        "Last but not least, I decided to identify customer's favorite product - the one that was ordered the most frequently. I begin with identifying the id of such product, and then the name itself:"
      ],
      "metadata": {
        "id": "oQIQ3QCysFLF"
      }
    },
    {
      "cell_type": "code",
      "source": [
        "product_counts = pl_sales.group_by(['CustomerID', 'ProductID']).agg(\n",
        "    pl.count('ProductID').alias('count')\n",
        ")"
      ],
      "metadata": {
        "id": "arGNvdVEsWLk"
      },
      "execution_count": 315,
      "outputs": []
    },
    {
      "cell_type": "code",
      "source": [
        "favorite_product_id = (\n",
        "    product_counts\n",
        "      .sort(['CustomerID', 'count'], descending = [False, True])\n",
        "      .group_by('CustomerID')\n",
        "      .agg(pl.first('ProductID').alias('favorite_product_id'))\n",
        ")"
      ],
      "metadata": {
        "id": "vg20UD3xscRx"
      },
      "execution_count": 316,
      "outputs": []
    },
    {
      "cell_type": "code",
      "source": [
        "favorite_product_name = (\n",
        "    favorite_product_id\n",
        "    .join(\n",
        "        pl_products.select(['ProductID', 'ProductName']),\n",
        "        left_on = 'favorite_product_id',\n",
        "        right_on = 'ProductID',\n",
        "        how = 'left'\n",
        "    )\n",
        "    .select([\n",
        "        'CustomerID',\n",
        "        pl.col('ProductName').alias('favorite_product')\n",
        "    ])\n",
        ")"
      ],
      "metadata": {
        "id": "dzqqdlrZsjc4"
      },
      "execution_count": 317,
      "outputs": []
    },
    {
      "cell_type": "code",
      "source": [
        "pl_aggregation = pl_aggregation.join(favorite_product_name, on = 'CustomerID', how = 'left')"
      ],
      "metadata": {
        "id": "dxK1zmCMH-pk"
      },
      "execution_count": 318,
      "outputs": []
    },
    {
      "cell_type": "markdown",
      "source": [
        "Final output here:"
      ],
      "metadata": {
        "id": "OJvaUeiW-HLM"
      }
    },
    {
      "cell_type": "code",
      "source": [
        "pl_aggregation"
      ],
      "metadata": {
        "colab": {
          "base_uri": "https://localhost:8080/",
          "height": 443
        },
        "id": "XOGkbVGG91FN",
        "outputId": "79223cac-ede9-485d-f8ee-d3c4a217b266"
      },
      "execution_count": 319,
      "outputs": [
        {
          "output_type": "execute_result",
          "data": {
            "text/plain": [
              "shape: (59_256, 8)\n",
              "┌────────────┬────────────┬───────────┬────────────┬───────────┬───────────┬───────────┬───────────┐\n",
              "│ CustomerID ┆ total_spen ┆ avg_spent ┆ order_coun ┆ customer_ ┆ first_ord ┆ last_orde ┆ favorite_ │\n",
              "│ ---        ┆ t          ┆ ---       ┆ t          ┆ status    ┆ er_date   ┆ r_date    ┆ product   │\n",
              "│ i64        ┆ ---        ┆ f64       ┆ ---        ┆ ---       ┆ ---       ┆ ---       ┆ ---       │\n",
              "│            ┆ f64        ┆           ┆ u32        ┆ str       ┆ date      ┆ date      ┆ str       │\n",
              "╞════════════╪════════════╪═══════════╪════════════╪═══════════╪═══════════╪═══════════╪═══════════╡\n",
              "│ 79312      ┆ 38326.05   ┆ 982.72    ┆ 39         ┆ silver    ┆ 2018-01-0 ┆ 2018-03-2 ┆ Ice Cream │\n",
              "│            ┆            ┆           ┆            ┆           ┆ 4         ┆ 9         ┆ Bar -     │\n",
              "│            ┆            ┆           ┆            ┆           ┆           ┆           ┆ Hageen    │\n",
              "│            ┆            ┆           ┆            ┆           ┆           ┆           ┆ Daz To    │\n",
              "│ 45446      ┆ 27157.56   ┆ 662.38    ┆ 41         ┆ bronze    ┆ 2018-01-0 ┆ 2018-03-3 ┆ Peas -    │\n",
              "│            ┆            ┆           ┆            ┆           ┆ 4         ┆ 1         ┆ Frozen    │\n",
              "│ 62330      ┆ 38155.56   ┆ 794.91    ┆ 48         ┆ silver    ┆ 2018-01-0 ┆ 2018-03-3 ┆ Sage -    │\n",
              "│            ┆            ┆           ┆            ┆           ┆ 2         ┆ 0         ┆ Ground    │\n",
              "│ 82084      ┆ 51534.92   ┆ 1120.32   ┆ 46         ┆ gold      ┆ 2018-01-0 ┆ 2018-03-2 ┆ Ketchup - │\n",
              "│            ┆            ┆           ┆            ┆           ┆ 1         ┆ 9         ┆ Tomato    │\n",
              "│ 75377      ┆ 49489.37   ┆ 951.72    ┆ 52         ┆ gold      ┆ 2018-01-0 ┆ 2018-03-3 ┆ Foam      │\n",
              "│            ┆            ┆           ┆            ┆           ┆ 2         ┆ 0         ┆ Dinner    │\n",
              "│            ┆            ┆           ┆            ┆           ┆           ┆           ┆ Plate     │\n",
              "│ …          ┆ …          ┆ …         ┆ …          ┆ …         ┆ …         ┆ …         ┆ …         │\n",
              "│ 89872      ┆ 53538.79   ┆ 1029.59   ┆ 52         ┆ gold      ┆ 2018-01-0 ┆ 2018-03-3 ┆ Yogurt -  │\n",
              "│            ┆            ┆           ┆            ┆           ┆ 2         ┆ 1         ┆ French    │\n",
              "│            ┆            ┆           ┆            ┆           ┆           ┆           ┆ Vanilla   │\n",
              "│ 44179      ┆ 23293.96   ┆ 541.72    ┆ 43         ┆ bronze    ┆ 2018-01-0 ┆ 2018-03-3 ┆ Juice -   │\n",
              "│            ┆            ┆           ┆            ┆           ┆ 3         ┆ 0         ┆ V8 Splash │\n",
              "│ 65637      ┆ 38692.55   ┆ 879.38    ┆ 44         ┆ silver    ┆ 2018-01-0 ┆ 2018-03-2 ┆ Wasabi    │\n",
              "│            ┆            ┆           ┆            ┆           ┆ 5         ┆ 8         ┆ Powder    │\n",
              "│ 56458      ┆ 34858.38   ┆ 683.5     ┆ 51         ┆ bronze    ┆ 2018-01-0 ┆ 2018-03-3 ┆ Beer -    │\n",
              "│            ┆            ┆           ┆            ┆           ┆ 4         ┆ 1         ┆ Sleemans  │\n",
              "│            ┆            ┆           ┆            ┆           ┆           ┆           ┆ Cream Ale │\n",
              "│ 94221      ┆ 54536.64   ┆ 1330.16   ┆ 41         ┆ gold      ┆ 2018-01-0 ┆ 2018-03-3 ┆ Pasta -   │\n",
              "│            ┆            ┆           ┆            ┆           ┆ 1         ┆ 0         ┆ Cheese /  │\n",
              "│            ┆            ┆           ┆            ┆           ┆           ┆           ┆ Spinach   │\n",
              "│            ┆            ┆           ┆            ┆           ┆           ┆           ┆ Baule…    │\n",
              "└────────────┴────────────┴───────────┴────────────┴───────────┴───────────┴───────────┴───────────┘"
            ],
            "text/html": [
              "<div><style>\n",
              ".dataframe > thead > tr,\n",
              ".dataframe > tbody > tr {\n",
              "  text-align: right;\n",
              "  white-space: pre-wrap;\n",
              "}\n",
              "</style>\n",
              "<small>shape: (59_256, 8)</small><table border=\"1\" class=\"dataframe\"><thead><tr><th>CustomerID</th><th>total_spent</th><th>avg_spent</th><th>order_count</th><th>customer_status</th><th>first_order_date</th><th>last_order_date</th><th>favorite_product</th></tr><tr><td>i64</td><td>f64</td><td>f64</td><td>u32</td><td>str</td><td>date</td><td>date</td><td>str</td></tr></thead><tbody><tr><td>79312</td><td>38326.05</td><td>982.72</td><td>39</td><td>&quot;silver&quot;</td><td>2018-01-04</td><td>2018-03-29</td><td>&quot;Ice Cream Bar - Hageen Daz To&quot;</td></tr><tr><td>45446</td><td>27157.56</td><td>662.38</td><td>41</td><td>&quot;bronze&quot;</td><td>2018-01-04</td><td>2018-03-31</td><td>&quot;Peas - Frozen&quot;</td></tr><tr><td>62330</td><td>38155.56</td><td>794.91</td><td>48</td><td>&quot;silver&quot;</td><td>2018-01-02</td><td>2018-03-30</td><td>&quot;Sage - Ground&quot;</td></tr><tr><td>82084</td><td>51534.92</td><td>1120.32</td><td>46</td><td>&quot;gold&quot;</td><td>2018-01-01</td><td>2018-03-29</td><td>&quot;Ketchup - Tomato&quot;</td></tr><tr><td>75377</td><td>49489.37</td><td>951.72</td><td>52</td><td>&quot;gold&quot;</td><td>2018-01-02</td><td>2018-03-30</td><td>&quot;Foam Dinner Plate&quot;</td></tr><tr><td>&hellip;</td><td>&hellip;</td><td>&hellip;</td><td>&hellip;</td><td>&hellip;</td><td>&hellip;</td><td>&hellip;</td><td>&hellip;</td></tr><tr><td>89872</td><td>53538.79</td><td>1029.59</td><td>52</td><td>&quot;gold&quot;</td><td>2018-01-02</td><td>2018-03-31</td><td>&quot;Yogurt - French Vanilla&quot;</td></tr><tr><td>44179</td><td>23293.96</td><td>541.72</td><td>43</td><td>&quot;bronze&quot;</td><td>2018-01-03</td><td>2018-03-30</td><td>&quot;Juice - V8 Splash&quot;</td></tr><tr><td>65637</td><td>38692.55</td><td>879.38</td><td>44</td><td>&quot;silver&quot;</td><td>2018-01-05</td><td>2018-03-28</td><td>&quot;Wasabi Powder&quot;</td></tr><tr><td>56458</td><td>34858.38</td><td>683.5</td><td>51</td><td>&quot;bronze&quot;</td><td>2018-01-04</td><td>2018-03-31</td><td>&quot;Beer - Sleemans Cream Ale&quot;</td></tr><tr><td>94221</td><td>54536.64</td><td>1330.16</td><td>41</td><td>&quot;gold&quot;</td><td>2018-01-01</td><td>2018-03-30</td><td>&quot;Pasta - Cheese / Spinach Baule…</td></tr></tbody></table></div>"
            ]
          },
          "metadata": {},
          "execution_count": 319
        }
      ]
    },
    {
      "cell_type": "markdown",
      "source": [
        "Finally, saving the output:"
      ],
      "metadata": {
        "id": "5OF9x5CpgIF6"
      }
    },
    {
      "cell_type": "code",
      "source": [
        "pl_aggregation.write_csv(\"polars_output.csv\")"
      ],
      "metadata": {
        "id": "OmIUqz9eh53c"
      },
      "execution_count": null,
      "outputs": []
    }
  ]
}