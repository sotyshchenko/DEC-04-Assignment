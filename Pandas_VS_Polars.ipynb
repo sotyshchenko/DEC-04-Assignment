{
  "nbformat": 4,
  "nbformat_minor": 0,
  "metadata": {
    "colab": {
      "provenance": []
    },
    "kernelspec": {
      "name": "python3",
      "display_name": "Python 3"
    },
    "language_info": {
      "name": "python"
    }
  },
  "cells": [
    {
      "cell_type": "markdown",
      "source": [
        "# Pandas\n",
        "\n"
      ],
      "metadata": {
        "id": "rY8yULPZHt2V"
      }
    },
    {
      "cell_type": "code",
      "source": [
        "import pandas as pd"
      ],
      "metadata": {
        "id": "1MDasHNJIBZF"
      },
      "execution_count": 202,
      "outputs": []
    },
    {
      "cell_type": "markdown",
      "source": [
        "Firstly, reading the data."
      ],
      "metadata": {
        "id": "AIKCL1kHICqE"
      }
    },
    {
      "cell_type": "code",
      "source": [
        "pd_categories = pd.read_csv('categories.csv')\n",
        "\n",
        "pd_cities = pd.read_csv('cities.csv')\n",
        "\n",
        "pd_countries = pd.read_csv('countries.csv')\n",
        "\n",
        "pd_customers = pd.read_csv('customers.csv')\n",
        "\n",
        "pd_employees = pd.read_csv('employees.csv')\n",
        "\n",
        "pd_products = pd.read_csv('products.csv')\n",
        "\n",
        "pd_sales = pd.read_csv('sales.csv')"
      ],
      "metadata": {
        "id": "nhSVhdtXIWaS"
      },
      "execution_count": 224,
      "outputs": []
    },
    {
      "cell_type": "markdown",
      "source": [
        "Now let's do filtering and drop NAs if there are any:"
      ],
      "metadata": {
        "id": "QoecZzB4I5yq"
      }
    },
    {
      "cell_type": "code",
      "source": [
        "pd_categories = pd_categories.dropna()\n",
        "\n",
        "pd_cities = pd_cities.dropna()\n",
        "\n",
        "pd_countries = pd_countries.dropna()\n",
        "\n",
        "pd_customers = pd_customers.dropna()\n",
        "\n",
        "pd_employees = pd_employees.dropna()\n",
        "\n",
        "pd_products = pd_products.dropna()\n",
        "\n",
        "pd_sales = pd_sales.dropna()"
      ],
      "metadata": {
        "id": "IakoqiixJijP"
      },
      "execution_count": 225,
      "outputs": []
    },
    {
      "cell_type": "markdown",
      "source": [
        "And now I want to calculate properly TotalPrice of each sale and proceed to merging sales data and products data and defining the formula for TotalPrice."
      ],
      "metadata": {
        "id": "713kcg1-Ksxt"
      }
    },
    {
      "cell_type": "code",
      "source": [
        "pd_sales = pd_sales.merge(\n",
        "    pd_products[['ProductID', 'Price']],\n",
        "    on = 'ProductID',\n",
        "    how = 'left'\n",
        ")"
      ],
      "metadata": {
        "id": "9rwpUYKdK5jN"
      },
      "execution_count": 226,
      "outputs": []
    },
    {
      "cell_type": "code",
      "source": [
        "pd_sales['TotalPrice'] = pd_sales['Price'] * pd_sales['Quantity']"
      ],
      "metadata": {
        "id": "izrhh4IWLB6e"
      },
      "execution_count": 227,
      "outputs": []
    },
    {
      "cell_type": "markdown",
      "source": [
        "I decided to drop uncessary now column Price:"
      ],
      "metadata": {
        "id": "bOZtK2W6LNDL"
      }
    },
    {
      "cell_type": "code",
      "source": [
        "pd_sales = pd_sales.drop(columns = ['Price'])"
      ],
      "metadata": {
        "id": "LkXkVhdELMNU"
      },
      "execution_count": 228,
      "outputs": []
    },
    {
      "cell_type": "markdown",
      "source": [
        "Now, I want to apply filtering and see all orders that were done in January 2018 and have more than 10 units ordered. Then sort the orders by their SalesDate."
      ],
      "metadata": {
        "id": "zjKjnDrNKC2A"
      }
    },
    {
      "cell_type": "code",
      "source": [
        "pd_sales = pd_sales[pd_sales['Quantity'] > 10]\n",
        "\n",
        "pd_sales = pd_sales[\n",
        "    (pd_sales['SalesDate'] >= '2018-01-01') &\n",
        "    (pd_sales['SalesDate'] <  '2018-04-01')\n",
        "]\n",
        "\n",
        "pd_sales = pd_sales.sort_values('SalesDate', ascending = False)"
      ],
      "metadata": {
        "id": "e4KDxM85LV0Q"
      },
      "execution_count": 229,
      "outputs": []
    },
    {
      "cell_type": "markdown",
      "source": [
        "Here, let me calculate the amount a customer spends on all orders, the average value of the order, and the number of orders."
      ],
      "metadata": {
        "id": "ge4e1syPqkHC"
      }
    },
    {
      "cell_type": "code",
      "source": [
        "pd_aggregation = (\n",
        "    pd_sales\n",
        "    .groupby('CustomerID')\n",
        "    .agg(\n",
        "        total_spent = pd.NamedAgg('TotalPrice', 'sum'),\n",
        "        avg_spent   = pd.NamedAgg('TotalPrice', 'mean'),\n",
        "        order_count = pd.NamedAgg('SalesID', 'count')\n",
        "      )\n",
        "    .reset_index()\n",
        ")"
      ],
      "metadata": {
        "id": "YYZBw1GkLjGW"
      },
      "execution_count": 230,
      "outputs": []
    },
    {
      "cell_type": "markdown",
      "source": [
        "For convenience, I also rounded the amounts:"
      ],
      "metadata": {
        "id": "855JxYYLTsYW"
      }
    },
    {
      "cell_type": "code",
      "source": [
        "pd_aggregation['total_spent'] = round(aggregation['total_spent'], 2)\n",
        "pd_aggregation['avg_spent'] = round(aggregation['avg_spent'], 2)"
      ],
      "metadata": {
        "id": "bmHwXAxpTVoe"
      },
      "execution_count": 231,
      "outputs": []
    },
    {
      "cell_type": "markdown",
      "source": [
        "On this step I decided to classify customers into 3 groups: bronze, silver, and gold, according to the amounts they spent:"
      ],
      "metadata": {
        "id": "CQUpOEL5VBGA"
      }
    },
    {
      "cell_type": "code",
      "source": [
        "quantiles = pd_aggregation['total_spent'].quantile([0, 0.33, 0.66, 1.0])\n",
        "\n",
        "pd_aggregation['customer_status'] = pd.cut(\n",
        "    pd_aggregation['total_spent'],\n",
        "    bins = quantiles.values,\n",
        "    labels = ['bronze', 'silver', 'gold'],\n",
        "    include_lowest = True\n",
        ")"
      ],
      "metadata": {
        "id": "vEpOU8tQWSw2"
      },
      "execution_count": 232,
      "outputs": []
    },
    {
      "cell_type": "markdown",
      "source": [
        "After that i decided to identify first and last orders of each customer:"
      ],
      "metadata": {
        "id": "lAqOZt4cnILq"
      }
    },
    {
      "cell_type": "code",
      "source": [
        "first_orders = (\n",
        "    pd_sales\n",
        "    .groupby('CustomerID')['SalesDate']\n",
        "    .min()\n",
        "    .reset_index()\n",
        "    .rename(columns={'SalesDate': 'first_order_date'})\n",
        ")"
      ],
      "metadata": {
        "id": "-4FXXllTW_X7"
      },
      "execution_count": 233,
      "outputs": []
    },
    {
      "cell_type": "code",
      "source": [
        "aggregation = pd_aggregation.merge(\n",
        "    first_orders,\n",
        "    on = 'CustomerID',\n",
        "    how = 'left'\n",
        ")"
      ],
      "metadata": {
        "id": "pv8sxvqRXAJ0"
      },
      "execution_count": 234,
      "outputs": []
    },
    {
      "cell_type": "code",
      "source": [
        "last_orders = (\n",
        "    pd_sales\n",
        "      .groupby('CustomerID')['SalesDate']\n",
        "      .max()\n",
        "      .reset_index()\n",
        "      .rename(columns = {'SalesDate': 'last_order_date'})\n",
        ")"
      ],
      "metadata": {
        "id": "0a052RVRYAPr"
      },
      "execution_count": 235,
      "outputs": []
    },
    {
      "cell_type": "code",
      "source": [
        "pd_aggregation = pd_aggregation.merge(\n",
        "    last_orders,\n",
        "    on='CustomerID',\n",
        "    how='left'\n",
        ")"
      ],
      "metadata": {
        "id": "0ceHOiPSYFaU"
      },
      "execution_count": 236,
      "outputs": []
    },
    {
      "cell_type": "markdown",
      "source": [
        "Last but not least, I decided to identify customer's favorite product - the one that was ordered the most frequently. I begin with identifying the id of such product, and then the name itself:"
      ],
      "metadata": {
        "id": "3Lyb-8LfnzKI"
      }
    },
    {
      "cell_type": "code",
      "source": [
        "favorite_product_id = (\n",
        "    pd_sales\n",
        "      .groupby('CustomerID')['ProductID']\n",
        "      .agg(lambda ids: ids.value_counts().idxmax())\n",
        "      .reset_index(name = 'favorite_product_id')\n",
        ")"
      ],
      "metadata": {
        "id": "6D8MsG20agX2"
      },
      "execution_count": 237,
      "outputs": []
    },
    {
      "cell_type": "code",
      "source": [
        "favorite_product_name = (\n",
        "    favorite_product_id\n",
        "    .merge(\n",
        "        pd_products[['ProductID','ProductName']],\n",
        "        left_on = 'favorite_product_id',\n",
        "        right_on = 'ProductID',\n",
        "        how = 'left'\n",
        "      )\n",
        "    .drop(columns = ['ProductID','favorite_product_id'])\n",
        "    .rename(columns = {'ProductName':'favorite_product'})\n",
        ")"
      ],
      "metadata": {
        "id": "QvhYriNTani3"
      },
      "execution_count": 238,
      "outputs": []
    },
    {
      "cell_type": "code",
      "source": [
        "pd_aggregation = pd_aggregation.merge(\n",
        "    favorite_product_name,\n",
        "    on = 'CustomerID',\n",
        "    how='left'\n",
        ")"
      ],
      "metadata": {
        "id": "pTfWJw4LaZo6"
      },
      "execution_count": 239,
      "outputs": []
    },
    {
      "cell_type": "markdown",
      "source": [
        "Tadaaa! Final table looks like:"
      ],
      "metadata": {
        "id": "6UyXClmnbvrO"
      }
    },
    {
      "cell_type": "code",
      "source": [
        "pd_aggregation"
      ],
      "metadata": {
        "colab": {
          "base_uri": "https://localhost:8080/",
          "height": 617
        },
        "id": "RPLo2jn7bDda",
        "outputId": "0b77acf9-d8af-4535-ec5d-a36b6aefed39"
      },
      "execution_count": 240,
      "outputs": [
        {
          "output_type": "execute_result",
          "data": {
            "text/plain": [
              "       CustomerID  total_spent  avg_spent  order_count customer_status  \\\n",
              "0           39504     11400.53     670.62           17          bronze   \n",
              "1           39505     27411.50     559.42           49          bronze   \n",
              "2           39506     20865.45     632.29           33          bronze   \n",
              "3           39507     23219.67     494.04           47          bronze   \n",
              "4           39508     30336.88     551.58           55          bronze   \n",
              "...           ...          ...        ...          ...             ...   \n",
              "59251       98755     58086.71    1117.05           52            gold   \n",
              "59252       98756     75462.62    1197.82           63            gold   \n",
              "59253       98757     66226.58    1379.72           48            gold   \n",
              "59254       98758     60422.53    1258.80           48            gold   \n",
              "59255       98759     47078.44    1176.96           40          silver   \n",
              "\n",
              "               last_order_date                   favorite_product  \n",
              "0      2018-03-27 14:45:14.350                      Peas - Frozen  \n",
              "1      2018-03-27 15:45:05.140             Pork - Loin, Bone - In  \n",
              "2      2018-03-30 17:13:40.410       Pastry - Cheese Baked Scones  \n",
              "3      2018-03-29 23:50:53.470                 Sauce - Demi Glace  \n",
              "4      2018-03-27 03:09:35.830                  Veal - Sweetbread  \n",
              "...                        ...                                ...  \n",
              "59251  2018-03-31 10:08:55.370                     Cattail Hearts  \n",
              "59252  2018-03-30 13:40:40.650               Juice - Happy Planet  \n",
              "59253  2018-03-29 17:45:08.070  Appetizer - Mini Egg Roll, Shrimp  \n",
              "59254  2018-03-31 15:38:28.190         Yogurt - Blueberry, 175 Gr  \n",
              "59255  2018-03-30 15:16:14.660         Wine - Gato Negro Cabernet  \n",
              "\n",
              "[59256 rows x 7 columns]"
            ],
            "text/html": [
              "\n",
              "  <div id=\"df-079f8fb0-73fc-4fad-b467-fadf1660cad6\" class=\"colab-df-container\">\n",
              "    <div>\n",
              "<style scoped>\n",
              "    .dataframe tbody tr th:only-of-type {\n",
              "        vertical-align: middle;\n",
              "    }\n",
              "\n",
              "    .dataframe tbody tr th {\n",
              "        vertical-align: top;\n",
              "    }\n",
              "\n",
              "    .dataframe thead th {\n",
              "        text-align: right;\n",
              "    }\n",
              "</style>\n",
              "<table border=\"1\" class=\"dataframe\">\n",
              "  <thead>\n",
              "    <tr style=\"text-align: right;\">\n",
              "      <th></th>\n",
              "      <th>CustomerID</th>\n",
              "      <th>total_spent</th>\n",
              "      <th>avg_spent</th>\n",
              "      <th>order_count</th>\n",
              "      <th>customer_status</th>\n",
              "      <th>last_order_date</th>\n",
              "      <th>favorite_product</th>\n",
              "    </tr>\n",
              "  </thead>\n",
              "  <tbody>\n",
              "    <tr>\n",
              "      <th>0</th>\n",
              "      <td>39504</td>\n",
              "      <td>11400.53</td>\n",
              "      <td>670.62</td>\n",
              "      <td>17</td>\n",
              "      <td>bronze</td>\n",
              "      <td>2018-03-27 14:45:14.350</td>\n",
              "      <td>Peas - Frozen</td>\n",
              "    </tr>\n",
              "    <tr>\n",
              "      <th>1</th>\n",
              "      <td>39505</td>\n",
              "      <td>27411.50</td>\n",
              "      <td>559.42</td>\n",
              "      <td>49</td>\n",
              "      <td>bronze</td>\n",
              "      <td>2018-03-27 15:45:05.140</td>\n",
              "      <td>Pork - Loin, Bone - In</td>\n",
              "    </tr>\n",
              "    <tr>\n",
              "      <th>2</th>\n",
              "      <td>39506</td>\n",
              "      <td>20865.45</td>\n",
              "      <td>632.29</td>\n",
              "      <td>33</td>\n",
              "      <td>bronze</td>\n",
              "      <td>2018-03-30 17:13:40.410</td>\n",
              "      <td>Pastry - Cheese Baked Scones</td>\n",
              "    </tr>\n",
              "    <tr>\n",
              "      <th>3</th>\n",
              "      <td>39507</td>\n",
              "      <td>23219.67</td>\n",
              "      <td>494.04</td>\n",
              "      <td>47</td>\n",
              "      <td>bronze</td>\n",
              "      <td>2018-03-29 23:50:53.470</td>\n",
              "      <td>Sauce - Demi Glace</td>\n",
              "    </tr>\n",
              "    <tr>\n",
              "      <th>4</th>\n",
              "      <td>39508</td>\n",
              "      <td>30336.88</td>\n",
              "      <td>551.58</td>\n",
              "      <td>55</td>\n",
              "      <td>bronze</td>\n",
              "      <td>2018-03-27 03:09:35.830</td>\n",
              "      <td>Veal - Sweetbread</td>\n",
              "    </tr>\n",
              "    <tr>\n",
              "      <th>...</th>\n",
              "      <td>...</td>\n",
              "      <td>...</td>\n",
              "      <td>...</td>\n",
              "      <td>...</td>\n",
              "      <td>...</td>\n",
              "      <td>...</td>\n",
              "      <td>...</td>\n",
              "    </tr>\n",
              "    <tr>\n",
              "      <th>59251</th>\n",
              "      <td>98755</td>\n",
              "      <td>58086.71</td>\n",
              "      <td>1117.05</td>\n",
              "      <td>52</td>\n",
              "      <td>gold</td>\n",
              "      <td>2018-03-31 10:08:55.370</td>\n",
              "      <td>Cattail Hearts</td>\n",
              "    </tr>\n",
              "    <tr>\n",
              "      <th>59252</th>\n",
              "      <td>98756</td>\n",
              "      <td>75462.62</td>\n",
              "      <td>1197.82</td>\n",
              "      <td>63</td>\n",
              "      <td>gold</td>\n",
              "      <td>2018-03-30 13:40:40.650</td>\n",
              "      <td>Juice - Happy Planet</td>\n",
              "    </tr>\n",
              "    <tr>\n",
              "      <th>59253</th>\n",
              "      <td>98757</td>\n",
              "      <td>66226.58</td>\n",
              "      <td>1379.72</td>\n",
              "      <td>48</td>\n",
              "      <td>gold</td>\n",
              "      <td>2018-03-29 17:45:08.070</td>\n",
              "      <td>Appetizer - Mini Egg Roll, Shrimp</td>\n",
              "    </tr>\n",
              "    <tr>\n",
              "      <th>59254</th>\n",
              "      <td>98758</td>\n",
              "      <td>60422.53</td>\n",
              "      <td>1258.80</td>\n",
              "      <td>48</td>\n",
              "      <td>gold</td>\n",
              "      <td>2018-03-31 15:38:28.190</td>\n",
              "      <td>Yogurt - Blueberry, 175 Gr</td>\n",
              "    </tr>\n",
              "    <tr>\n",
              "      <th>59255</th>\n",
              "      <td>98759</td>\n",
              "      <td>47078.44</td>\n",
              "      <td>1176.96</td>\n",
              "      <td>40</td>\n",
              "      <td>silver</td>\n",
              "      <td>2018-03-30 15:16:14.660</td>\n",
              "      <td>Wine - Gato Negro Cabernet</td>\n",
              "    </tr>\n",
              "  </tbody>\n",
              "</table>\n",
              "<p>59256 rows × 7 columns</p>\n",
              "</div>\n",
              "    <div class=\"colab-df-buttons\">\n",
              "\n",
              "  <div class=\"colab-df-container\">\n",
              "    <button class=\"colab-df-convert\" onclick=\"convertToInteractive('df-079f8fb0-73fc-4fad-b467-fadf1660cad6')\"\n",
              "            title=\"Convert this dataframe to an interactive table.\"\n",
              "            style=\"display:none;\">\n",
              "\n",
              "  <svg xmlns=\"http://www.w3.org/2000/svg\" height=\"24px\" viewBox=\"0 -960 960 960\">\n",
              "    <path d=\"M120-120v-720h720v720H120Zm60-500h600v-160H180v160Zm220 220h160v-160H400v160Zm0 220h160v-160H400v160ZM180-400h160v-160H180v160Zm440 0h160v-160H620v160ZM180-180h160v-160H180v160Zm440 0h160v-160H620v160Z\"/>\n",
              "  </svg>\n",
              "    </button>\n",
              "\n",
              "  <style>\n",
              "    .colab-df-container {\n",
              "      display:flex;\n",
              "      gap: 12px;\n",
              "    }\n",
              "\n",
              "    .colab-df-convert {\n",
              "      background-color: #E8F0FE;\n",
              "      border: none;\n",
              "      border-radius: 50%;\n",
              "      cursor: pointer;\n",
              "      display: none;\n",
              "      fill: #1967D2;\n",
              "      height: 32px;\n",
              "      padding: 0 0 0 0;\n",
              "      width: 32px;\n",
              "    }\n",
              "\n",
              "    .colab-df-convert:hover {\n",
              "      background-color: #E2EBFA;\n",
              "      box-shadow: 0px 1px 2px rgba(60, 64, 67, 0.3), 0px 1px 3px 1px rgba(60, 64, 67, 0.15);\n",
              "      fill: #174EA6;\n",
              "    }\n",
              "\n",
              "    .colab-df-buttons div {\n",
              "      margin-bottom: 4px;\n",
              "    }\n",
              "\n",
              "    [theme=dark] .colab-df-convert {\n",
              "      background-color: #3B4455;\n",
              "      fill: #D2E3FC;\n",
              "    }\n",
              "\n",
              "    [theme=dark] .colab-df-convert:hover {\n",
              "      background-color: #434B5C;\n",
              "      box-shadow: 0px 1px 3px 1px rgba(0, 0, 0, 0.15);\n",
              "      filter: drop-shadow(0px 1px 2px rgba(0, 0, 0, 0.3));\n",
              "      fill: #FFFFFF;\n",
              "    }\n",
              "  </style>\n",
              "\n",
              "    <script>\n",
              "      const buttonEl =\n",
              "        document.querySelector('#df-079f8fb0-73fc-4fad-b467-fadf1660cad6 button.colab-df-convert');\n",
              "      buttonEl.style.display =\n",
              "        google.colab.kernel.accessAllowed ? 'block' : 'none';\n",
              "\n",
              "      async function convertToInteractive(key) {\n",
              "        const element = document.querySelector('#df-079f8fb0-73fc-4fad-b467-fadf1660cad6');\n",
              "        const dataTable =\n",
              "          await google.colab.kernel.invokeFunction('convertToInteractive',\n",
              "                                                    [key], {});\n",
              "        if (!dataTable) return;\n",
              "\n",
              "        const docLinkHtml = 'Like what you see? Visit the ' +\n",
              "          '<a target=\"_blank\" href=https://colab.research.google.com/notebooks/data_table.ipynb>data table notebook</a>'\n",
              "          + ' to learn more about interactive tables.';\n",
              "        element.innerHTML = '';\n",
              "        dataTable['output_type'] = 'display_data';\n",
              "        await google.colab.output.renderOutput(dataTable, element);\n",
              "        const docLink = document.createElement('div');\n",
              "        docLink.innerHTML = docLinkHtml;\n",
              "        element.appendChild(docLink);\n",
              "      }\n",
              "    </script>\n",
              "  </div>\n",
              "\n",
              "\n",
              "<div id=\"df-3bb0e47c-8574-47d6-89bc-4ed98baebd1c\">\n",
              "  <button class=\"colab-df-quickchart\" onclick=\"quickchart('df-3bb0e47c-8574-47d6-89bc-4ed98baebd1c')\"\n",
              "            title=\"Suggest charts\"\n",
              "            style=\"display:none;\">\n",
              "\n",
              "<svg xmlns=\"http://www.w3.org/2000/svg\" height=\"24px\"viewBox=\"0 0 24 24\"\n",
              "     width=\"24px\">\n",
              "    <g>\n",
              "        <path d=\"M19 3H5c-1.1 0-2 .9-2 2v14c0 1.1.9 2 2 2h14c1.1 0 2-.9 2-2V5c0-1.1-.9-2-2-2zM9 17H7v-7h2v7zm4 0h-2V7h2v10zm4 0h-2v-4h2v4z\"/>\n",
              "    </g>\n",
              "</svg>\n",
              "  </button>\n",
              "\n",
              "<style>\n",
              "  .colab-df-quickchart {\n",
              "      --bg-color: #E8F0FE;\n",
              "      --fill-color: #1967D2;\n",
              "      --hover-bg-color: #E2EBFA;\n",
              "      --hover-fill-color: #174EA6;\n",
              "      --disabled-fill-color: #AAA;\n",
              "      --disabled-bg-color: #DDD;\n",
              "  }\n",
              "\n",
              "  [theme=dark] .colab-df-quickchart {\n",
              "      --bg-color: #3B4455;\n",
              "      --fill-color: #D2E3FC;\n",
              "      --hover-bg-color: #434B5C;\n",
              "      --hover-fill-color: #FFFFFF;\n",
              "      --disabled-bg-color: #3B4455;\n",
              "      --disabled-fill-color: #666;\n",
              "  }\n",
              "\n",
              "  .colab-df-quickchart {\n",
              "    background-color: var(--bg-color);\n",
              "    border: none;\n",
              "    border-radius: 50%;\n",
              "    cursor: pointer;\n",
              "    display: none;\n",
              "    fill: var(--fill-color);\n",
              "    height: 32px;\n",
              "    padding: 0;\n",
              "    width: 32px;\n",
              "  }\n",
              "\n",
              "  .colab-df-quickchart:hover {\n",
              "    background-color: var(--hover-bg-color);\n",
              "    box-shadow: 0 1px 2px rgba(60, 64, 67, 0.3), 0 1px 3px 1px rgba(60, 64, 67, 0.15);\n",
              "    fill: var(--button-hover-fill-color);\n",
              "  }\n",
              "\n",
              "  .colab-df-quickchart-complete:disabled,\n",
              "  .colab-df-quickchart-complete:disabled:hover {\n",
              "    background-color: var(--disabled-bg-color);\n",
              "    fill: var(--disabled-fill-color);\n",
              "    box-shadow: none;\n",
              "  }\n",
              "\n",
              "  .colab-df-spinner {\n",
              "    border: 2px solid var(--fill-color);\n",
              "    border-color: transparent;\n",
              "    border-bottom-color: var(--fill-color);\n",
              "    animation:\n",
              "      spin 1s steps(1) infinite;\n",
              "  }\n",
              "\n",
              "  @keyframes spin {\n",
              "    0% {\n",
              "      border-color: transparent;\n",
              "      border-bottom-color: var(--fill-color);\n",
              "      border-left-color: var(--fill-color);\n",
              "    }\n",
              "    20% {\n",
              "      border-color: transparent;\n",
              "      border-left-color: var(--fill-color);\n",
              "      border-top-color: var(--fill-color);\n",
              "    }\n",
              "    30% {\n",
              "      border-color: transparent;\n",
              "      border-left-color: var(--fill-color);\n",
              "      border-top-color: var(--fill-color);\n",
              "      border-right-color: var(--fill-color);\n",
              "    }\n",
              "    40% {\n",
              "      border-color: transparent;\n",
              "      border-right-color: var(--fill-color);\n",
              "      border-top-color: var(--fill-color);\n",
              "    }\n",
              "    60% {\n",
              "      border-color: transparent;\n",
              "      border-right-color: var(--fill-color);\n",
              "    }\n",
              "    80% {\n",
              "      border-color: transparent;\n",
              "      border-right-color: var(--fill-color);\n",
              "      border-bottom-color: var(--fill-color);\n",
              "    }\n",
              "    90% {\n",
              "      border-color: transparent;\n",
              "      border-bottom-color: var(--fill-color);\n",
              "    }\n",
              "  }\n",
              "</style>\n",
              "\n",
              "  <script>\n",
              "    async function quickchart(key) {\n",
              "      const quickchartButtonEl =\n",
              "        document.querySelector('#' + key + ' button');\n",
              "      quickchartButtonEl.disabled = true;  // To prevent multiple clicks.\n",
              "      quickchartButtonEl.classList.add('colab-df-spinner');\n",
              "      try {\n",
              "        const charts = await google.colab.kernel.invokeFunction(\n",
              "            'suggestCharts', [key], {});\n",
              "      } catch (error) {\n",
              "        console.error('Error during call to suggestCharts:', error);\n",
              "      }\n",
              "      quickchartButtonEl.classList.remove('colab-df-spinner');\n",
              "      quickchartButtonEl.classList.add('colab-df-quickchart-complete');\n",
              "    }\n",
              "    (() => {\n",
              "      let quickchartButtonEl =\n",
              "        document.querySelector('#df-3bb0e47c-8574-47d6-89bc-4ed98baebd1c button');\n",
              "      quickchartButtonEl.style.display =\n",
              "        google.colab.kernel.accessAllowed ? 'block' : 'none';\n",
              "    })();\n",
              "  </script>\n",
              "</div>\n",
              "    </div>\n",
              "  </div>\n"
            ],
            "application/vnd.google.colaboratory.intrinsic+json": {
              "type": "dataframe",
              "variable_name": "pd_aggregation",
              "summary": "{\n  \"name\": \"pd_aggregation\",\n  \"rows\": 59256,\n  \"fields\": [\n    {\n      \"column\": \"CustomerID\",\n      \"properties\": {\n        \"dtype\": \"number\",\n        \"std\": 17105,\n        \"min\": 39504,\n        \"max\": 98759,\n        \"num_unique_values\": 59256,\n        \"samples\": [\n          46437,\n          41853,\n          97964\n        ],\n        \"semantic_type\": \"\",\n        \"description\": \"\"\n      }\n    },\n    {\n      \"column\": \"total_spent\",\n      \"properties\": {\n        \"dtype\": \"number\",\n        \"std\": 12754.756590184474,\n        \"min\": 11400.53,\n        \"max\": 99783.14,\n        \"num_unique_values\": 58888,\n        \"samples\": [\n          42318.73,\n          31778.64,\n          50181.84\n        ],\n        \"semantic_type\": \"\",\n        \"description\": \"\"\n      }\n    },\n    {\n      \"column\": \"avg_spent\",\n      \"properties\": {\n        \"dtype\": \"number\",\n        \"std\": 233.3664457546833,\n        \"min\": 392.23,\n        \"max\": 1684.74,\n        \"num_unique_values\": 42953,\n        \"samples\": [\n          825.94,\n          788.19,\n          650.44\n        ],\n        \"semantic_type\": \"\",\n        \"description\": \"\"\n      }\n    },\n    {\n      \"column\": \"order_count\",\n      \"properties\": {\n        \"dtype\": \"number\",\n        \"std\": 6,\n        \"min\": 17,\n        \"max\": 76,\n        \"num_unique_values\": 56,\n        \"samples\": [\n          17,\n          43,\n          31\n        ],\n        \"semantic_type\": \"\",\n        \"description\": \"\"\n      }\n    },\n    {\n      \"column\": \"customer_status\",\n      \"properties\": {\n        \"dtype\": \"category\",\n        \"num_unique_values\": 3,\n        \"samples\": [\n          \"bronze\",\n          \"silver\",\n          \"gold\"\n        ],\n        \"semantic_type\": \"\",\n        \"description\": \"\"\n      }\n    },\n    {\n      \"column\": \"last_order_date\",\n      \"properties\": {\n        \"dtype\": \"object\",\n        \"num_unique_values\": 59197,\n        \"samples\": [\n          \"2018-03-30 20:22:26.700\",\n          \"2018-03-31 05:42:48.970\",\n          \"2018-03-29 02:11:13.330\"\n        ],\n        \"semantic_type\": \"\",\n        \"description\": \"\"\n      }\n    },\n    {\n      \"column\": \"favorite_product\",\n      \"properties\": {\n        \"dtype\": \"category\",\n        \"num_unique_values\": 452,\n        \"samples\": [\n          \"Soup V8 Roasted Red Pepper\",\n          \"Bread - Roll, Soft White Round\",\n          \"Tilapia - Fillets\"\n        ],\n        \"semantic_type\": \"\",\n        \"description\": \"\"\n      }\n    }\n  ]\n}"
            }
          },
          "metadata": {},
          "execution_count": 240
        }
      ]
    },
    {
      "cell_type": "markdown",
      "source": [
        "Finally, saving the output file:"
      ],
      "metadata": {
        "id": "6vnzoQanoQTL"
      }
    },
    {
      "cell_type": "code",
      "source": [
        "pd_aggregation.to_csv(\"pandas_output.csv\", index = False)"
      ],
      "metadata": {
        "id": "MS1waAkViPaT"
      },
      "execution_count": 241,
      "outputs": []
    },
    {
      "cell_type": "markdown",
      "source": [
        "# Polars"
      ],
      "metadata": {
        "id": "jLfhU8CKH0Fh"
      }
    },
    {
      "cell_type": "code",
      "source": [
        "import polars as pl\n",
        "import typing\n",
        "import polars._typing as _t\n",
        "from datetime import datetime"
      ],
      "metadata": {
        "id": "QmYYX7VZH4o8"
      },
      "execution_count": 242,
      "outputs": []
    },
    {
      "cell_type": "markdown",
      "source": [
        "Firstly, reading the data (again but with Polars)."
      ],
      "metadata": {
        "id": "v5MRH3ekoiEu"
      }
    },
    {
      "cell_type": "code",
      "source": [
        "pl_categories = pl.read_csv(\"categories.csv\").drop_nulls()\n",
        "pl_cities = pl.read_csv(\"cities.csv\").drop_nulls()\n",
        "pl_countries = pl.read_csv(\"countries.csv\").drop_nulls()\n",
        "pl_customers = pl.read_csv(\"customers.csv\").drop_nulls()\n",
        "pl_employees = pl.read_csv(\"employees.csv\").drop_nulls()\n",
        "pl_products = pl.read_csv(\"products.csv\").drop_nulls()\n",
        "pl_sales = pl.read_csv(\"sales.csv\").drop_nulls()"
      ],
      "metadata": {
        "id": "Tmi1wLFdcbAJ"
      },
      "execution_count": 243,
      "outputs": []
    },
    {
      "cell_type": "markdown",
      "source": [
        "Here I'm joining the sales table with prices, to compute TotalPrice = Price * Quantity and then drop Price from merged data:"
      ],
      "metadata": {
        "id": "lYgQkrjtpYeR"
      }
    },
    {
      "cell_type": "code",
      "source": [
        "pl_sales = pl_sales.join(\n",
        "    pl_products.select(['ProductID', 'Price']),\n",
        "    on = 'ProductID',\n",
        "    how = 'left'\n",
        ")"
      ],
      "metadata": {
        "id": "pBBtIR1ac-Gn"
      },
      "execution_count": 244,
      "outputs": []
    },
    {
      "cell_type": "code",
      "source": [
        "pl_sales = (\n",
        "    pl_sales\n",
        "    .with_columns(\n",
        "        (pl.col('Price') * pl.col('Quantity')).alias('TotalPrice')\n",
        "    )\n",
        "    .drop('Price')\n",
        ")"
      ],
      "metadata": {
        "id": "jZybl8h9dAxX"
      },
      "execution_count": 245,
      "outputs": []
    },
    {
      "cell_type": "markdown",
      "source": [
        "Now I proceed to filter order with quantity over 10 units and placed within 1 January and 1 April, sorting them by date."
      ],
      "metadata": {
        "id": "x_DOntYQp5Qt"
      }
    },
    {
      "cell_type": "code",
      "source": [
        "pl_sales = pl_sales.filter(pl.col('Quantity') > 10)"
      ],
      "metadata": {
        "id": "StFdQQIldCgB"
      },
      "execution_count": 246,
      "outputs": []
    },
    {
      "cell_type": "code",
      "source": [
        "pl_sales = (\n",
        "    pl_sales.with_columns(\n",
        "        pl.col('SalesDate')\n",
        "        .str.to_datetime('%Y-%m-%d %H:%M:%S.%f', strict = False)\n",
        "        .dt.date()\n",
        "        .alias('SalesDate')\n",
        "    )\n",
        "    .filter(\n",
        "        (pl.col('SalesDate') >= date(2018, 1, 1)) &\n",
        "        (pl.col('SalesDate') <  date(2018, 4, 1))\n",
        "    )\n",
        ")"
      ],
      "metadata": {
        "colab": {
          "base_uri": "https://localhost:8080/"
        },
        "id": "5N4OSrbKdD6n",
        "outputId": "c042fa2a-1b39-4f2c-e846-25ec6be89ea2"
      },
      "execution_count": 247,
      "outputs": [
        {
          "output_type": "stream",
          "name": "stderr",
          "text": [
            "<ipython-input-247-5dc128cd89f6>:4: ChronoFormatWarning: Detected the pattern `.%f` in the chrono format string. This pattern should not be used to parse values after a decimal point. Use `%.f` instead. See the full specification: https://docs.rs/chrono/latest/chrono/format/strftime\n",
            "  .str.to_datetime('%Y-%m-%d %H:%M:%S.%f', strict = False)\n"
          ]
        }
      ]
    },
    {
      "cell_type": "code",
      "source": [
        "pl_sales = pl_sales.sort('SalesDate', descending = True)"
      ],
      "metadata": {
        "id": "c4zQY3GmdF-V"
      },
      "execution_count": 248,
      "outputs": []
    },
    {
      "cell_type": "markdown",
      "source": [
        "Here, let me calculate the amount a customer spends on all orders, the average value of the order, and the number of orders."
      ],
      "metadata": {
        "id": "V3UHxJFCqghL"
      }
    },
    {
      "cell_type": "code",
      "source": [
        "pl_aggregation = pl_sales.group_by('CustomerID').agg([\n",
        "    pl.col('TotalPrice').sum().round(2).alias('total_spent'),\n",
        "    pl.col('TotalPrice').mean().round(2).alias('avg_spent'),\n",
        "    pl.count('SalesID').alias('order_count'),\n",
        "])"
      ],
      "metadata": {
        "id": "N7L4TC7RdHPi"
      },
      "execution_count": 250,
      "outputs": []
    },
    {
      "cell_type": "markdown",
      "source": [
        "Computing quantiles to classify the customers:"
      ],
      "metadata": {
        "id": "nl4yKuZzrW1r"
      }
    },
    {
      "cell_type": "code",
      "source": [
        "q33 = pl_aggregation['total_spent'].quantile(0.33)\n",
        "q66 = pl_aggregation['total_spent'].quantile(0.66)"
      ],
      "metadata": {
        "id": "3YembydreuKY"
      },
      "execution_count": 252,
      "outputs": []
    },
    {
      "cell_type": "code",
      "source": [
        "aggregation = pl_aggregation.with_columns([\n",
        "    pl.when(pl.col('total_spent') <= q33).then(pl.lit('bronze'))\n",
        "      .when(pl.col('total_spent') <= q66).then(pl.lit('silver'))\n",
        "      .otherwise(pl.lit('gold'))\n",
        "      .alias('customer_status')\n",
        "])"
      ],
      "metadata": {
        "id": "lFR1WpM7e6bW"
      },
      "execution_count": 253,
      "outputs": []
    },
    {
      "cell_type": "markdown",
      "source": [
        "Then let me identify first and last order of the customer:\n"
      ],
      "metadata": {
        "id": "e6rrHUIProdY"
      }
    },
    {
      "cell_type": "code",
      "source": [
        "first_orders = pl_sales.group_by('CustomerID').agg(\n",
        "    pl.col('SalesDate').min().alias('first_order_date')\n",
        ")\n",
        "\n",
        "last_orders = pl_sales.group_by('CustomerID').agg(\n",
        "    pl.col('SalesDate').max().alias('last_order_date')\n",
        ")\n",
        "\n",
        "aggregation = (\n",
        "    aggregation\n",
        "    .join(first_orders, on = 'CustomerID', how = 'left')\n",
        "    .join(last_orders,  on = 'CustomerID', how = 'left')\n",
        ")"
      ],
      "metadata": {
        "id": "3RdBdzx1sDWV"
      },
      "execution_count": 254,
      "outputs": []
    },
    {
      "cell_type": "markdown",
      "source": [
        "Last but not least, I decided to identify customer's favorite product - the one that was ordered the most frequently. I begin with identifying the id of such product, and then the name itself:"
      ],
      "metadata": {
        "id": "oQIQ3QCysFLF"
      }
    },
    {
      "cell_type": "code",
      "source": [
        "product_counts = pl_sales.group_by(['CustomerID', 'ProductID']).agg(\n",
        "    pl.count('ProductID').alias('count')\n",
        ")"
      ],
      "metadata": {
        "id": "arGNvdVEsWLk"
      },
      "execution_count": 259,
      "outputs": []
    },
    {
      "cell_type": "code",
      "source": [
        "favorite_product_id = (\n",
        "    product_counts\n",
        "      .sort(['CustomerID', 'count'], descending = [False, True])\n",
        "      .group_by('CustomerID')\n",
        "      .agg(pl.first('ProductID').alias('favorite_product_id'))\n",
        ")"
      ],
      "metadata": {
        "id": "vg20UD3xscRx"
      },
      "execution_count": 260,
      "outputs": []
    },
    {
      "cell_type": "code",
      "source": [
        "favorite_product_name = (\n",
        "    favorite_product_id\n",
        "    .join(\n",
        "        pl_products.select(['ProductID', 'ProductName']),\n",
        "        left_on = 'favorite_product_id',\n",
        "        right_on = 'ProductID',\n",
        "        how = 'left'\n",
        "    )\n",
        "    .select([\n",
        "        'CustomerID',\n",
        "        pl.col('ProductName').alias('favorite_product')\n",
        "    ])\n",
        ")"
      ],
      "metadata": {
        "id": "dzqqdlrZsjc4"
      },
      "execution_count": 261,
      "outputs": []
    },
    {
      "cell_type": "code",
      "source": [
        "pl_aggregation = pl_aggregation.join(favorite_product_name, on = 'CustomerID', how = 'left')"
      ],
      "metadata": {
        "id": "dxK1zmCMH-pk"
      },
      "execution_count": 262,
      "outputs": []
    },
    {
      "cell_type": "markdown",
      "source": [
        "Finally, saving the output:"
      ],
      "metadata": {
        "id": "5OF9x5CpgIF6"
      }
    },
    {
      "cell_type": "code",
      "source": [
        "pl_aggregation.write_csv(\"polars_output.csv\")"
      ],
      "metadata": {
        "id": "OmIUqz9eh53c"
      },
      "execution_count": 263,
      "outputs": []
    }
  ]
}